{
 "cells": [
  {
   "cell_type": "markdown",
   "id": "ef65c95e-5367-4c75-9e92-0c64b623ccba",
   "metadata": {},
   "source": [
    "# Summarise in Arabic\n",
    "\n",
    "We'll now continue the example with a recipe from the Vectara website where we search our employee handbook.\n",
    "\n",
    "See here for the REST version of this: https://docs.vectara.com/docs/api-recipes"
   ]
  },
  {
   "cell_type": "code",
   "execution_count": 2,
   "id": "fed5679c-d645-4d6e-8243-4639d3ddb589",
   "metadata": {},
   "outputs": [
    {
     "name": "stdout",
     "output_type": "stream",
     "text": [
      "Note: you may need to restart the kernel to use updated packages.\n"
     ]
    }
   ],
   "source": [
    "%pip install -q vectara-skunk-client==0.1.8"
   ]
  },
  {
   "cell_type": "code",
   "execution_count": 3,
   "id": "dfa228e3-7d3e-42bf-997c-6836bbdb4893",
   "metadata": {},
   "outputs": [],
   "source": [
    "import logging\n",
    "\n",
    "logging.basicConfig(format='%(asctime)s %(levelname)s:%(message)s', level=logging.INFO, datefmt='%H:%M:%S %z')"
   ]
  },
  {
   "cell_type": "code",
   "execution_count": 4,
   "id": "72b707bb-16b4-48d4-8959-990d6baefb63",
   "metadata": {},
   "outputs": [
    {
     "ename": "IndentationError",
     "evalue": "expected an indented block after function definition on line 23 (query.py, line 26)",
     "output_type": "error",
     "traceback": [
      "Traceback \u001b[1;36m(most recent call last)\u001b[0m:\n",
      "\u001b[0m  File \u001b[0;32mC:\\dev\\tools\\ipython\\Lib\\site-packages\\IPython\\core\\interactiveshell.py:3553\u001b[0m in \u001b[0;35mrun_code\u001b[0m\n    exec(code_obj, self.user_global_ns, self.user_ns)\u001b[0m\n",
      "\u001b[0m  Cell \u001b[0;32mIn[4], line 1\u001b[0m\n    from vectara.core import Factory\u001b[0m\n",
      "\u001b[1;36m  File \u001b[1;32mC:\\dev\\tools\\ipython\\Lib\\site-packages\\vectara\\core.py:6\u001b[1;36m\n\u001b[1;33m    from vectara.query import QueryService\u001b[1;36m\n",
      "\u001b[1;36m  File \u001b[1;32mC:\\dev\\tools\\ipython\\Lib\\site-packages\\vectara\\query.py:26\u001b[1;36m\u001b[0m\n\u001b[1;33m    def query(self, query_text: str, corpus_id: int, start: int = 0, page_size: int = 10,\u001b[0m\n\u001b[1;37m    ^\u001b[0m\n\u001b[1;31mIndentationError\u001b[0m\u001b[1;31m:\u001b[0m expected an indented block after function definition on line 23\n"
     ]
    }
   ],
   "source": [
    "from vectara.core import Factory\n",
    "\n",
    "client = Factory().build()"
   ]
  },
  {
   "cell_type": "code",
   "execution_count": null,
   "id": "75ccc47f-b09a-4cff-b953-1dd7f8e3ca8a",
   "metadata": {},
   "outputs": [],
   "source": [
    "admin_service = client.admin_service\n",
    "\n",
    "corpora = admin_service.list_corpora(\"02-employee-handbook\")\n",
    "\n",
    "if len(corpora) >= 1:\n",
    "    for corpus in corpora:\n",
    "        admin_service.delete_corpus(corpus.id)\n",
    "else:\n",
    "    logging.info(\"No existing corpus with the name client-example\")"
   ]
  },
  {
   "cell_type": "markdown",
   "id": "92f68379-5095-43d0-9a63-eb37f7f43de5",
   "metadata": {},
   "source": [
    "## Create Our Demo Corpus\n",
    "We now create our new corpus called, \"02-employee-handbook\" where we'll upload our documents for this test."
   ]
  },
  {
   "cell_type": "code",
   "execution_count": null,
   "id": "3fcf18f6-8c22-4c8c-972c-1c6b2fd4d680",
   "metadata": {},
   "outputs": [],
   "source": [
    "create_corpus_result = admin_service.create_corpus(\"02-employee-handbook\", description=\"Example Corpus for use from Jupyter\")\n",
    "logging.info(f\"New corpus created {create_corpus_result}\")\n",
    "corpus_id = create_corpus_result.corpusId"
   ]
  },
  {
   "cell_type": "markdown",
   "id": "dcc5aaa3-b08c-436e-a2d5-90c071e85bd3",
   "metadata": {},
   "source": [
    "## Upload Handbook to Corpus\n",
    "We now upload our PDF to the corpus which will parse and then encode the document, storing the embeddings in our vector database."
   ]
  },
  {
   "cell_type": "code",
   "execution_count": null,
   "id": "42a1d365-06dd-40d5-9485-f1d96935b951",
   "metadata": {},
   "outputs": [],
   "source": [
    "from pathlib import Path\n",
    "\n",
    "handbook_path = Path(\"resources/vectara_employee_handbook.pdf\")\n",
    "indexer_service = client.indexer_service\n",
    "indexer_service.upload(corpus_id, handbook_path)"
   ]
  },
  {
   "cell_type": "code",
   "execution_count": null,
   "id": "0bed4b09-ed74-4f10-aa1d-69a35a56781b",
   "metadata": {},
   "outputs": [],
   "source": [
    "query_service = client.query_service\n",
    "#response = query_service.query(\"Can I bring any birds to the Vectara office?\", corpus_id)\n",
    "response = query_service.query(\"How much PTO is offered to employees each year?\", corpus_id)"
   ]
  },
  {
   "cell_type": "code",
   "execution_count": null,
   "id": "62651b3f-e1da-4b9b-a172-c0e95328d51d",
   "metadata": {},
   "outputs": [],
   "source": [
    "print(response.responseSet[0].summary[0].text)"
   ]
  },
  {
   "cell_type": "code",
   "execution_count": null,
   "id": "bd017cef-07e3-4cdd-8598-7f0607be99b0",
   "metadata": {},
   "outputs": [],
   "source": [
    "from dataclasses import asdict\n",
    "from vectara.util import _custom_asdict_factory\n",
    "import json\n",
    "\n",
    "print(json.dumps(asdict(response, dict_factory=_custom_asdict_factory),indent=4))"
   ]
  }
 ],
 "metadata": {
  "kernelspec": {
   "display_name": "Python 3 (ipykernel)",
   "language": "python",
   "name": "python3"
  },
  "language_info": {
   "codemirror_mode": {
    "name": "ipython",
    "version": 3
   },
   "file_extension": ".py",
   "mimetype": "text/x-python",
   "name": "python",
   "nbconvert_exporter": "python",
   "pygments_lexer": "ipython3",
   "version": "3.12.1"
  }
 },
 "nbformat": 4,
 "nbformat_minor": 5
}
