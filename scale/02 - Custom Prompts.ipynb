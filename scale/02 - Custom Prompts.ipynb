{
 "cells": [
  {
   "cell_type": "markdown",
   "id": "27096562-704a-44eb-8b4e-3a0a8d822b5f",
   "metadata": {},
   "source": [
    "# Custom Prompt (TBC)\n",
    "Restore this one - upload from Keto to new repo, ask questions with filled corpus vs empty."
   ]
  },
  {
   "cell_type": "markdown",
   "id": "9e199db5-c908-4b5f-9318-7976e6b89a81",
   "metadata": {},
   "source": [
    "## Ask Keto - Mostly Empty, Allow Base LLM\n",
    "In this scenario, we are asking whether Keto is healthy but the document we upload is empty, except for a title. This means we'll get a search result \n",
    "and allow the LLM to provide it's own knowledge (without Guardrails)."
   ]
  },
  {
   "cell_type": "code",
   "execution_count": null,
   "id": "e51d21d4-2ae7-4bf6-bc7a-ceb3f3be9675",
   "metadata": {},
   "outputs": [],
   "source": [
    "corpus_id_empty = create_lab_corpus(\"s03-basic-chatbot-empty\", quiet=True)\n",
    "\n",
    "result = None\n",
    "for p in resources_dir.glob(\"*.pdf\"):\n",
    "    result = indexer_service.upload(corpus_id_empty, p, return_extracted=True)"
   ]
  },
  {
   "cell_type": "code",
   "execution_count": null,
   "id": "d22001c4-bef3-4f09-88c4-67e06c2802c7",
   "metadata": {},
   "outputs": [],
   "source": [
    "query = \"Is Keto Healthy?\"\n",
    "resp = qs.query(query, corpus_id_empty, promptText=prompt_text)\n",
    "render_response(query, resp, show_search_results=False)"
   ]
  },
  {
   "cell_type": "markdown",
   "id": "ba732e08-df5e-4c98-affb-c93af9fb8063",
   "metadata": {},
   "source": [
    "## Contrasting the Two Results\n",
    "The first result contained information which was from the \"keto\" group who whilst some may say are biased, are from people\n",
    "who are \"Bucking the Trend\" of mainstream adherents to the \"Standard American Diet\". The second result contains a mix of knowledge,\n",
    "and does include some accepted benefits of Keto but also many of the detractors sentiments (that it is unsustainable). This\n",
    "is a great proof of RAG to be able to santise/curate data products and whether allowing any response outside the corpus is\n",
    "acceptable. It also includes the following fallacies:\n",
    "\n",
    "1. Carbohydrates are \"nutrionally necessary\" (the body cannot make them); and\n",
    "2. Meat is somehow not nutrionally dense\n",
    "3. Saturated fat is unhealthy."
   ]
  }
 ],
 "metadata": {
  "kernelspec": {
   "display_name": "Python 3 (ipykernel)",
   "language": "python",
   "name": "python3"
  },
  "language_info": {
   "codemirror_mode": {
    "name": "ipython",
    "version": 3
   },
   "file_extension": ".py",
   "mimetype": "text/x-python",
   "name": "python",
   "nbconvert_exporter": "python",
   "pygments_lexer": "ipython3",
   "version": "3.12.1"
  }
 },
 "nbformat": 4,
 "nbformat_minor": 5
}
