{
 "cells": [
  {
   "cell_type": "markdown",
   "id": "ef65c95e-5367-4c75-9e92-0c64b623ccba",
   "metadata": {},
   "source": [
    "# Search Demo Corpus\n",
    "\n",
    "We'll now continue the example with a recipe from the Vectara website where we search our employee handbook.\n",
    "\n",
    "See here for the REST version of this: https://docs.vectara.com/docs/api-recipes\n",
    "\n",
    "NB: try --no-cache-dir for pip install for new versions"
   ]
  },
  {
   "cell_type": "code",
   "execution_count": 1,
   "id": "fed5679c-d645-4d6e-8243-4639d3ddb589",
   "metadata": {},
   "outputs": [
    {
     "name": "stdout",
     "output_type": "stream",
     "text": [
      "Note: you may need to restart the kernel to use updated packages.\n"
     ]
    }
   ],
   "source": [
    "%pip install -q vectara-skunk-client==0.2.5"
   ]
  },
  {
   "cell_type": "code",
   "execution_count": 2,
   "id": "dfa228e3-7d3e-42bf-997c-6836bbdb4893",
   "metadata": {},
   "outputs": [],
   "source": [
    "import logging\n",
    "\n",
    "logging.basicConfig(format='%(asctime)s %(name)-20s %(levelname)s:%(message)s', level=logging.INFO, datefmt='%H:%M:%S %z')"
   ]
  },
  {
   "cell_type": "code",
   "execution_count": 3,
   "id": "72b707bb-16b4-48d4-8959-990d6baefb63",
   "metadata": {},
   "outputs": [
    {
     "name": "stderr",
     "output_type": "stream",
     "text": [
      "12:20:07 +1100 Factory              INFO:initializing builder\n",
      "12:20:07 +1100 Factory              INFO:Factory will load configuration from home directory\n",
      "12:20:07 +1100 HomeConfigLoader     INFO:Loading configuration from users home directory [C:\\Users\\david]\n",
      "12:20:07 +1100 HomeConfigLoader     INFO:Loading default configuration [default]\n",
      "12:20:07 +1100 HomeConfigLoader     INFO:Parsing config\n",
      "12:20:07 +1100 root                 INFO:We are processing authentication type [OAuth2]\n",
      "12:20:07 +1100 OAuthUtil            INFO:Using provided OAuth2 URL [https://vectara-prod-1623270172.auth.us-west-2.amazoncognito.com/oauth2/token]\n",
      "12:20:07 +1100 OAuthUtil            INFO:OAuth2 URL is [https://vectara-prod-1623270172.auth.us-west-2.amazoncognito.com/oauth2/token]\n",
      "12:20:07 +1100 root                 INFO:initializing Client\n"
     ]
    }
   ],
   "source": [
    "from vectara.core import Factory\n",
    "\n",
    "client = Factory().build()"
   ]
  },
  {
   "cell_type": "code",
   "execution_count": 4,
   "id": "75ccc47f-b09a-4cff-b953-1dd7f8e3ca8a",
   "metadata": {},
   "outputs": [
    {
     "name": "stderr",
     "output_type": "stream",
     "text": [
      "12:20:07 +1100 OAuthUtil            INFO:Current timestamp 2023-12-29 12:20:07.059216\n",
      "12:20:07 +1100 OAuthUtil            INFO:First time requesting token, authenticating\n",
      "12:20:08 +1100 OAuthUtil            INFO:Received OAuth token, will expire [12/29/2023, 13:20:08]\n",
      "12:20:08 +1100 OAuthUtil            INFO:Already authenticated with non-expired token, expiry is [1703816408]\n",
      "12:20:08 +1100 RequestUtil          INFO:URL for operation list-corpora is: https://api.vectara.io/v1/list-corpora\n",
      "12:20:09 +1100 OAuthUtil            INFO:Current timestamp 2023-12-29 12:20:09.125745\n",
      "12:20:09 +1100 OAuthUtil            INFO:Expiry            2023-12-29 13:20:08\n",
      "12:20:09 +1100 OAuthUtil            INFO:Already authenticated with non-expired token, expiry is [1703816408]\n",
      "12:20:09 +1100 RequestUtil          INFO:URL for operation delete-corpus is: https://api.vectara.io/v1/delete-corpus\n"
     ]
    }
   ],
   "source": [
    "admin_service = client.admin_service\n",
    "\n",
    "corpora = admin_service.list_corpora(\"02-employee-handbook\")\n",
    "\n",
    "if len(corpora) >= 1:\n",
    "    for corpus in corpora:\n",
    "        admin_service.delete_corpus(corpus.id)\n",
    "else:\n",
    "    logging.info(\"No existing corpus with the name client-example\")"
   ]
  },
  {
   "cell_type": "markdown",
   "id": "92f68379-5095-43d0-9a63-eb37f7f43de5",
   "metadata": {},
   "source": [
    "## Create Our Demo Corpus\n",
    "We now create our new corpus called, \"02-employee-handbook\" where we'll upload our documents for this test."
   ]
  },
  {
   "cell_type": "code",
   "execution_count": 5,
   "id": "3fcf18f6-8c22-4c8c-972c-1c6b2fd4d680",
   "metadata": {},
   "outputs": [
    {
     "name": "stderr",
     "output_type": "stream",
     "text": [
      "12:20:11 +1100 OAuthUtil            INFO:Current timestamp 2023-12-29 12:20:11.106810\n",
      "12:20:11 +1100 OAuthUtil            INFO:Expiry            2023-12-29 13:20:08\n",
      "12:20:11 +1100 OAuthUtil            INFO:Already authenticated with non-expired token, expiry is [1703816408]\n",
      "12:20:11 +1100 RequestUtil          INFO:URL for operation create-corpus is: https://api.vectara.io/v1/create-corpus\n",
      "12:20:13 +1100 AdminService         INFO:Created new corpus with 122\n",
      "12:20:13 +1100 root                 INFO:New corpus created CreateCorpusResponse(corpusId=122, status=Status(code=<StatusCode.OK: 0>, statusDetail='Corpus Created'))\n"
     ]
    }
   ],
   "source": [
    "create_corpus_result = admin_service.create_corpus(\"02-employee-handbook\", description=\"Example Corpus for use from Jupyter\")\n",
    "logging.info(f\"New corpus created {create_corpus_result}\")\n",
    "corpus_id = create_corpus_result.corpusId"
   ]
  },
  {
   "cell_type": "markdown",
   "id": "dcc5aaa3-b08c-436e-a2d5-90c071e85bd3",
   "metadata": {},
   "source": [
    "## Upload Handbook to Corpus\n",
    "We now upload our PDF to the corpus which will parse and then encode the document, storing the embeddings in our vector database."
   ]
  },
  {
   "cell_type": "code",
   "execution_count": 6,
   "id": "42a1d365-06dd-40d5-9485-f1d96935b951",
   "metadata": {},
   "outputs": [
    {
     "name": "stderr",
     "output_type": "stream",
     "text": [
      "12:20:13 +1100 IndexerService       INFO:Headers: {\"c\": \"1623270172\", \"o\": \"122\"}\n",
      "12:20:13 +1100 OAuthUtil            INFO:Current timestamp 2023-12-29 12:20:13.091609\n",
      "12:20:13 +1100 OAuthUtil            INFO:Expiry            2023-12-29 13:20:08\n",
      "12:20:13 +1100 OAuthUtil            INFO:Already authenticated with non-expired token, expiry is [1703816408]\n",
      "vectara_employee_handbook.pdf: 52.7kB [00:03, 17.1kB/s]                                                                \n"
     ]
    },
    {
     "data": {
      "text/plain": [
       "UploadDocumentResponse(response=UploadDocumentResponseInner(status=None, quotaConsumed=StorageQuota(numChars='9215', numMetadataChars='4903')), document=None)"
      ]
     },
     "execution_count": 6,
     "metadata": {},
     "output_type": "execute_result"
    }
   ],
   "source": [
    "from pathlib import Path\n",
    "\n",
    "handbook_path = Path(\"resources/vectara_employee_handbook.pdf\")\n",
    "indexer_service = client.indexer_service\n",
    "indexer_service.upload(corpus_id, handbook_path)"
   ]
  },
  {
   "cell_type": "code",
   "execution_count": 7,
   "id": "0bed4b09-ed74-4f10-aa1d-69a35a56781b",
   "metadata": {},
   "outputs": [
    {
     "name": "stderr",
     "output_type": "stream",
     "text": [
      "12:20:16 +1100 OAuthUtil            INFO:Current timestamp 2023-12-29 12:20:16.273401\n",
      "12:20:16 +1100 OAuthUtil            INFO:Expiry            2023-12-29 13:20:08\n",
      "12:20:16 +1100 OAuthUtil            INFO:Already authenticated with non-expired token, expiry is [1703816408]\n",
      "12:20:16 +1100 RequestUtil          INFO:URL for operation query is: https://api.vectara.io/v1/query\n"
     ]
    }
   ],
   "source": [
    "query_service = client.query_service\n",
    "query = \"At Vectara, Can I bring any birds to the Vectara Office?\"\n",
    "response = query_service.query(query, corpus_id)"
   ]
  },
  {
   "cell_type": "markdown",
   "id": "e2e90fee-5b27-4810-a821-0fb48f4a871d",
   "metadata": {},
   "source": [
    "## Show Result in Markdown\n",
    "We'll now use the utility method \"renderMarkdown\" to render the Python dict"
   ]
  },
  {
   "cell_type": "code",
   "execution_count": 8,
   "id": "bd017cef-07e3-4cdd-8598-7f0607be99b0",
   "metadata": {},
   "outputs": [
    {
     "data": {
      "text/markdown": [
       "\n",
       "# Query: At Vectara, Can I bring any birds to the Vectara Office?\n",
       "\n",
       "At Vectara, you are allowed to bring birds to the office [7.2.3]. While common household pets like cats and dogs are not permitted [7.2.1], Vectara embraces the unusual and exotic [7.2.2]. However, it is important to note that the employee handbook contains a pet policy [7.2]. Unfortunately, the specific details regarding bird types or any restrictions are not mentioned in the available search results.\n",
       "\n",
       " 1. **Employee Handbook - Company Pet Policy** (vectara_employee_handbook.pdf): 7.2.3: The Avian Exception - Birds of a Feather <b>At Vectara, we believe in soaring to new heights, and what better way to embody that spirit than\n",
       "by allowing birds into our workspace?</b> Yes, you read that right! *score: 0.89985037*\n",
       " 2. **Employee Handbook - Company Pet Policy** (vectara_employee_handbook.pdf): 7.2.1: The Usual Suspects - Cats & Dogs <b>We regret to inform you that common household pets such as cats and dogs are not allowed on\n",
       "the Vectara campuses.</b> Why, you ask? Because at Vectara, we're all about breaking the mold and\n",
       "challenging the status quo. *score: 0.8140942*\n",
       " 3. **Employee Handbook - Company Pet Policy** (vectara_employee_handbook.pdf): Vectara Employee Handbook <b>This employee handbook covers all the essential information to make you successful at\n",
       "Vectara.</b> 7.2 - Company Pet Policy *score: 0.8071276*\n",
       " 4. **Employee Handbook - Company Pet Policy** (vectara_employee_handbook.pdf): While we adore cats and dogs, we must respectfully ask that they remain at home, where they\n",
       "can continue their secret missions, philosophical ponderings, and adorable antics. <b>At Vectara,\n",
       "we're forging a new path, one that requires us to leave behind the familiar and embrace the wild\n",
       "unknown.</b> Rest assured, your feline and canine companions will be cheering you on from the\n",
       "comfort of their favorite sunlit windows and cozy dog beds. *score: 0.8032716*\n",
       " 5. **Employee Handbook - Company Pet Policy** (vectara_employee_handbook.pdf): 7.2.2: The Exotic Exceptions - Unleashing the Unusual <b>At Vectara, we pride ourselves on thinking outside the box, and our pet policy is no exception.</b> While common household pets like cats and dogs are not permitted, we welcome a select group\n",
       "of exotic creatures that reﬂect our daring and innovative spirit. *score: 0.796098*\n",
       " 6. **Employee Handbook - Company Pet Policy** (vectara_employee_handbook.pdf): We regret to inform you that common household pets such as cats and dogs are not allowed on\n",
       "the Vectara campuses. <b>Why, you ask? Because at Vectara, we're all about breaking the mold and\n",
       "challenging the status quo.</b> Cats and dogs are wonderful, but we believe in taking a walk on the\n",
       "wild side. *score: 0.7942082*\n",
       " 7. **Employee Handbook - Company Pet Policy** (vectara_employee_handbook.pdf): Adoption Programs <b>The Conservation Connection: Vectara is committed to wildlife conservation.</b> Our exotic pet\n",
       "policy is aligned with global conservation efforts, and we actively support initiatives to protect\n",
       "endangered species. *score: 0.79056066*\n",
       " 8. **Employee Handbook - Company Pet Policy** (vectara_employee_handbook.pdf): Employee Handbook - Company Pet Policy <b>Vectara Employee Handbook</b> This employee handbook covers all the essential information to make you successful at\n",
       "Vectara. *score: 0.7843369*\n",
       " 9. **Employee Handbook - Company Pet Policy** (vectara_employee_handbook.pdf): On-site Mini Zoo <b>●   The Vectara Zoo\n",
       "               ○   Our on-site mini-zoo is home to these extraordinary animals.</b> It's a place of\n",
       "                       inspiration, relaxation, and education. *score: 0.76677066*\n",
       " 10. **Employee Handbook - Company Pet Policy** (vectara_employee_handbook.pdf): Furthermore, we've consulted with leading pet psychologists, animal behaviorists, and even a\n",
       "few wizards to understand the complex dynamics between humans and their four-legged\n",
       "companions. <b>The conclusion? Cats and dogs are simply too mainstream for Vectara's\n",
       "avant-garde environment.</b> They're playing chess while we're orchestrating interdimensional\n",
       "quantum maneuvers. *score: 0.7343332*\n"
      ],
      "text/plain": [
       "<IPython.core.display.Markdown object>"
      ]
     },
     "metadata": {},
     "output_type": "display_data"
    }
   ],
   "source": [
    "from vectara.util import render_markdown\n",
    "from IPython.display import display, Markdown\n",
    "rendered = render_markdown(query, response)\n",
    "display(Markdown(rendered))"
   ]
  },
  {
   "cell_type": "code",
   "execution_count": 9,
   "id": "c4b2bbb6-fadd-4204-8402-f8c7bb3d1522",
   "metadata": {},
   "outputs": [
    {
     "name": "stdout",
     "output_type": "stream",
     "text": [
      "122\n"
     ]
    }
   ],
   "source": [
    "print(corpus_id)"
   ]
  }
 ],
 "metadata": {
  "kernelspec": {
   "display_name": "Python 3 (ipykernel)",
   "language": "python",
   "name": "python3"
  },
  "language_info": {
   "codemirror_mode": {
    "name": "ipython",
    "version": 3
   },
   "file_extension": ".py",
   "mimetype": "text/x-python",
   "name": "python",
   "nbconvert_exporter": "python",
   "pygments_lexer": "ipython3",
   "version": "3.12.1"
  }
 },
 "nbformat": 4,
 "nbformat_minor": 5
}
