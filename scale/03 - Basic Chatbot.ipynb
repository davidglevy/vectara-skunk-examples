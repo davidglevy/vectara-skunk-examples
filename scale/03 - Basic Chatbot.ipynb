{
 "cells": [
  {
   "cell_type": "markdown",
   "id": "bd01b0e8-b6ae-4b24-b75b-caa3ccde2e0b",
   "metadata": {},
   "source": [
    "# 03 - Basic Chatbot\n",
    "We'll now build a chatbot within the constraints of Jupyter."
   ]
  },
  {
   "cell_type": "code",
   "execution_count": 1,
   "id": "7da9cb43-81c6-4157-bcc0-9a9b0b786eb6",
   "metadata": {},
   "outputs": [
    {
     "name": "stdout",
     "output_type": "stream",
     "text": [
      "Note: you may need to restart the kernel to use updated packages.\n"
     ]
    }
   ],
   "source": [
    "%pip install -q vectara-skunk-client==0.4.14"
   ]
  },
  {
   "cell_type": "code",
   "execution_count": 2,
   "id": "28488676-e6f1-4571-808c-6b13f02532f5",
   "metadata": {},
   "outputs": [],
   "source": [
    "import sys\n",
    "sys.path.append(\"..\")"
   ]
  },
  {
   "cell_type": "code",
   "execution_count": 3,
   "id": "195e375a-6423-4857-8c2a-8425195623f9",
   "metadata": {},
   "outputs": [
    {
     "name": "stderr",
     "output_type": "stream",
     "text": [
      "09:57:11 +1100 lab_setup            INFO:User prefix for lab: david\n",
      "09:57:11 +1100 lab_setup            INFO:Setting up lab corpus with name [david-s03-basic-chatbot]\n",
      "09:57:11 +1100 Factory              INFO:initializing builder\n",
      "09:57:11 +1100 Factory              INFO:Factory will load configuration from home directory\n",
      "09:57:11 +1100 root                 INFO:We are processing authentication type [OAuth2]\n",
      "09:57:11 +1100 root                 INFO:initializing Client\n",
      "09:57:18 +1100 AdminService         INFO:Created new corpus with 260\n",
      "09:57:18 +1100 root                 INFO:New corpus created CreateCorpusResponse(corpusId=260, status=Status(code=<StatusCode.OK: 0>, statusDetail='Corpus Created', cause=None))\n",
      "09:57:18 +1100 lab_setup            INFO:New lab created with id [260]\n"
     ]
    }
   ],
   "source": [
    "from lab_setup import create_lab_corpus, render_chat\n",
    "corpus_id = create_lab_corpus(\"s03-basic-chatbot\", quiet=True)"
   ]
  },
  {
   "cell_type": "code",
   "execution_count": null,
   "id": "af4fe5dd-df41-49e5-8d29-358031596389",
   "metadata": {},
   "outputs": [
    {
     "name": "stderr",
     "output_type": "stream",
     "text": [
      "09:57:18 +1100 Factory              INFO:initializing builder\n",
      "09:57:18 +1100 Factory              INFO:Factory will load configuration from home directory\n",
      "09:57:18 +1100 root                 INFO:We are processing authentication type [OAuth2]\n",
      "09:57:18 +1100 root                 INFO:initializing Client\n",
      "09:57:18 +1100 IndexerService       INFO:Headers: {\"c\": \"1623270172\", \"o\": \"260\"}\n",
      "C2023A00043.pdf: 952kB [00:06, 148kB/s]                                                                              \n",
      "09:57:26 +1100 IndexerService       INFO:Headers: {\"c\": \"1623270172\", \"o\": \"260\"}\n",
      "F2024C00002.pdf: 826kB [00:02, 777kB/s]                                                                              "
     ]
    }
   ],
   "source": [
    "from pathlib import Path\n",
    "from vectara_client.core import Factory\n",
    "\n",
    "resources_dir = Path(\"../resources/fair_work_australia\")\n",
    "client = Factory().build()\n",
    "indexer_service = client.indexer_service\n",
    "\n",
    "result = None\n",
    "for pdf in resources_dir.glob(\"*.pdf\"):\n",
    "    result = indexer_service.upload(corpus_id, pdf, return_extracted=False)"
   ]
  },
  {
   "cell_type": "code",
   "execution_count": null,
   "id": "49f0015d-bb47-4928-a76d-8ee413d0eb2d",
   "metadata": {},
   "outputs": [],
   "source": [
    "from vectara_client.chat import ChatHelper\n",
    "import logging\n",
    "\n",
    "our_name = \"David\"\n",
    "helper_name = \"Ebony\"\n",
    "persona = \"A Pleasant Legal Officer at Fair Work Australia\"\n",
    "\n",
    "qs = client.query_service\n",
    "chat_helper = ChatHelper(corpus_id, qs, customer_name=our_name, name=helper_name, chat_persona=persona, max_word_count=150,\n",
    "                         log_response=False)"
   ]
  },
  {
   "cell_type": "code",
   "execution_count": null,
   "id": "ec4835fd-5bae-4eeb-9793-5ce378bcc861",
   "metadata": {},
   "outputs": [],
   "source": [
    "def ask_question(query, chat_helper):\n",
    "    \"\"\"\n",
    "        Helper method to run markdown render in Juptyer.\n",
    "    \"\"\"\n",
    "    resp = chat_helper.run_chat(query)\n",
    "    render_chat(query, resp, show_search_results=False)"
   ]
  },
  {
   "cell_type": "code",
   "execution_count": null,
   "id": "a1dc0a1a-d388-4b11-ab06-883f4d11bf79",
   "metadata": {},
   "outputs": [],
   "source": [
    "ask_question(\"How are you today\", chat_helper)"
   ]
  },
  {
   "cell_type": "code",
   "execution_count": null,
   "id": "ec720db1-b383-4443-a891-728c6831e9fd",
   "metadata": {},
   "outputs": [],
   "source": [
    "ask_question(\"Am I entitled to paid leave in Australia?\", chat_helper)"
   ]
  },
  {
   "cell_type": "code",
   "execution_count": null,
   "id": "66d61e93-b93f-46ee-852d-2c1fe4f49c4f",
   "metadata": {},
   "outputs": [],
   "source": [
    "ask_question(\"My employer has said that Christmas Day and Boxing Day counts as paid leave, is this correct?\", chat_helper)"
   ]
  },
  {
   "cell_type": "code",
   "execution_count": null,
   "id": "0089ef3f-8913-4851-bac5-a9231a32a4bd",
   "metadata": {},
   "outputs": [],
   "source": [
    "ask_question(\"I'm a permanent employee who works regular hours: 9-5, 5 days a week which only says it complies with Australia law.\", chat_helper)"
   ]
  },
  {
   "cell_type": "code",
   "execution_count": null,
   "id": "d4d39158-eeb4-4654-8106-d85ccbcc57b1",
   "metadata": {},
   "outputs": [],
   "source": [
    "ask_question(\"I work as a white collar employee and am interested in Annual Leave.\", chat_helper)"
   ]
  },
  {
   "cell_type": "code",
   "execution_count": null,
   "id": "791177fb-ed89-41a0-b3ea-2c46c7193fc7",
   "metadata": {},
   "outputs": [],
   "source": [
    "ask_question(\"It says I get four weeks paid annual leave in my employment contract plus public holidays\", chat_helper)"
   ]
  }
 ],
 "metadata": {
  "kernelspec": {
   "display_name": "Python 3 (ipykernel)",
   "language": "python",
   "name": "python3"
  },
  "language_info": {
   "codemirror_mode": {
    "name": "ipython",
    "version": 3
   },
   "file_extension": ".py",
   "mimetype": "text/x-python",
   "name": "python",
   "nbconvert_exporter": "python",
   "pygments_lexer": "ipython3",
   "version": "3.12.1"
  }
 },
 "nbformat": 4,
 "nbformat_minor": 5
}
