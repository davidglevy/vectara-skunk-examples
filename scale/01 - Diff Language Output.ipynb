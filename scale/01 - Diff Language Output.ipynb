{
 "cells": [
  {
   "cell_type": "markdown",
   "id": "ef65c95e-5367-4c75-9e92-0c64b623ccba",
   "metadata": {},
   "source": [
    "# Summarise in Arabic\n",
    "\n",
    "We'll now continue the example with a recipe from the Vectara website where we search our employee handbook.\n",
    "\n",
    "See here for the REST version of this: https://docs.vectara.com/docs/api-recipes"
   ]
  },
  {
   "cell_type": "code",
   "execution_count": 11,
   "id": "fed5679c-d645-4d6e-8243-4639d3ddb589",
   "metadata": {},
   "outputs": [
    {
     "name": "stdout",
     "output_type": "stream",
     "text": [
      "Note: you may need to restart the kernel to use updated packages.\n"
     ]
    }
   ],
   "source": [
    "%pip install -q vectara-skunk-client==0.4.13"
   ]
  },
  {
   "cell_type": "code",
   "execution_count": 12,
   "id": "dfa228e3-7d3e-42bf-997c-6836bbdb4893",
   "metadata": {},
   "outputs": [],
   "source": [
    "import logging\n",
    "\n",
    "logging.basicConfig(format='%(asctime)s %(name)-20s %(levelname)s:%(message)s', level=logging.INFO, datefmt='%H:%M:%S %z')"
   ]
  },
  {
   "cell_type": "code",
   "execution_count": 13,
   "id": "72b707bb-16b4-48d4-8959-990d6baefb63",
   "metadata": {},
   "outputs": [
    {
     "name": "stderr",
     "output_type": "stream",
     "text": [
      "09:50:28 +1100 Factory              INFO:initializing builder\n",
      "09:50:28 +1100 Factory              INFO:Factory will load configuration from home directory\n",
      "09:50:28 +1100 HomeConfigLoader     INFO:Loading configuration from users home directory [C:\\Users\\david]\n",
      "09:50:28 +1100 HomeConfigLoader     INFO:Loading default configuration [default]\n",
      "09:50:28 +1100 HomeConfigLoader     INFO:Parsing config\n",
      "09:50:28 +1100 root                 INFO:We are processing authentication type [OAuth2]\n",
      "09:50:28 +1100 OAuthUtil            INFO:Using provided OAuth2 URL [https://vectara-prod-1623270172.auth.us-west-2.amazoncognito.com/oauth2/token]\n",
      "09:50:28 +1100 OAuthUtil            INFO:OAuth2 URL is [https://vectara-prod-1623270172.auth.us-west-2.amazoncognito.com/oauth2/token]\n",
      "09:50:28 +1100 root                 INFO:initializing Client\n"
     ]
    }
   ],
   "source": [
    "from vectara_client.core import Factory\n",
    "\n",
    "client = Factory().build()"
   ]
  },
  {
   "cell_type": "code",
   "execution_count": 14,
   "id": "75ccc47f-b09a-4cff-b953-1dd7f8e3ca8a",
   "metadata": {},
   "outputs": [
    {
     "name": "stderr",
     "output_type": "stream",
     "text": [
      "09:50:30 +1100 OAuthUtil            INFO:Current timestamp 2024-01-13 09:50:30.780804\n",
      "09:50:30 +1100 OAuthUtil            INFO:First time requesting token, authenticating\n",
      "09:50:32 +1100 OAuthUtil            INFO:Received OAuth token, will expire [01/13/2024, 10:50:32]\n",
      "09:50:32 +1100 OAuthUtil            INFO:Already authenticated with non-expired token, expiry is [1705103432]\n",
      "09:50:32 +1100 RequestUtil          INFO:URL for operation list-corpora is: https://api.vectara.io/v1/list-corpora\n",
      "09:50:33 +1100 OAuthUtil            INFO:Current timestamp 2024-01-13 09:50:33.254402\n",
      "09:50:33 +1100 OAuthUtil            INFO:Expiry            2024-01-13 10:50:32\n",
      "09:50:33 +1100 OAuthUtil            INFO:Already authenticated with non-expired token, expiry is [1705103432]\n",
      "09:50:33 +1100 RequestUtil          INFO:URL for operation delete-corpus is: https://api.vectara.io/v1/delete-corpus\n"
     ]
    }
   ],
   "source": [
    "admin_service = client.admin_service\n",
    "\n",
    "corpora = admin_service.list_corpora(\"01-diff-language-output\")\n",
    "\n",
    "if len(corpora) >= 1:\n",
    "    for corpus in corpora:\n",
    "        admin_service.delete_corpus(corpus.id)\n",
    "else:\n",
    "    logging.info(\"No existing corpus with the name client-example\")"
   ]
  },
  {
   "cell_type": "markdown",
   "id": "92f68379-5095-43d0-9a63-eb37f7f43de5",
   "metadata": {},
   "source": [
    "## Create Our Demo Corpus\n",
    "We now create our new corpus called, \"02-employee-handbook\" where we'll upload our documents for this test."
   ]
  },
  {
   "cell_type": "code",
   "execution_count": 15,
   "id": "3fcf18f6-8c22-4c8c-972c-1c6b2fd4d680",
   "metadata": {},
   "outputs": [
    {
     "name": "stderr",
     "output_type": "stream",
     "text": [
      "09:50:35 +1100 OAuthUtil            INFO:Current timestamp 2024-01-13 09:50:35.504482\n",
      "09:50:35 +1100 OAuthUtil            INFO:Expiry            2024-01-13 10:50:32\n",
      "09:50:35 +1100 OAuthUtil            INFO:Already authenticated with non-expired token, expiry is [1705103432]\n",
      "09:50:35 +1100 RequestUtil          INFO:URL for operation create-corpus is: https://api.vectara.io/v1/create-corpus\n",
      "09:50:37 +1100 AdminService         INFO:Created new corpus with 258\n",
      "09:50:37 +1100 root                 INFO:New corpus created CreateCorpusResponse(corpusId=258, status=Status(code=<StatusCode.OK: 0>, statusDetail='Corpus Created', cause=None))\n"
     ]
    }
   ],
   "source": [
    "create_corpus_result = admin_service.create_corpus(\"scale-01-diff-language-output\", description=\"Example Corpus to test different language output\")\n",
    "logging.info(f\"New corpus created {create_corpus_result}\")\n",
    "corpus_id = create_corpus_result.corpusId"
   ]
  },
  {
   "cell_type": "markdown",
   "id": "dcc5aaa3-b08c-436e-a2d5-90c071e85bd3",
   "metadata": {},
   "source": [
    "## Upload Handbook to Corpus\n",
    "We now upload our PDF to the corpus which will parse and then encode the document, storing the embeddings in our vector database."
   ]
  },
  {
   "cell_type": "code",
   "execution_count": 16,
   "id": "42a1d365-06dd-40d5-9485-f1d96935b951",
   "metadata": {},
   "outputs": [
    {
     "name": "stderr",
     "output_type": "stream",
     "text": [
      "09:50:38 +1100 IndexerService       INFO:Headers: {\"c\": \"1623270172\", \"o\": \"258\"}\n",
      "09:50:38 +1100 OAuthUtil            INFO:Current timestamp 2024-01-13 09:50:38.932981\n",
      "09:50:38 +1100 OAuthUtil            INFO:Expiry            2024-01-13 10:50:32\n",
      "09:50:38 +1100 OAuthUtil            INFO:Already authenticated with non-expired token, expiry is [1705103432]\n",
      "vectara_employee_handbook.pdf: 52.7kB [00:03, 15.4kB/s]                                                              \n"
     ]
    },
    {
     "data": {
      "text/plain": [
       "UploadDocumentResponse(response=UploadDocumentResponseInner(status=None, quotaConsumed=StorageQuota(numChars='9215', numMetadataChars='4903')), document=None)"
      ]
     },
     "execution_count": 16,
     "metadata": {},
     "output_type": "execute_result"
    }
   ],
   "source": [
    "from pathlib import Path\n",
    "\n",
    "handbook_path = Path(\"../resources/vectara_employee_handbook.pdf\")\n",
    "indexer_service = client.indexer_service\n",
    "indexer_service.upload(corpus_id, handbook_path)"
   ]
  },
  {
   "cell_type": "markdown",
   "id": "292a8cc9-3de7-42c0-a3ea-d14ad2dab43c",
   "metadata": {},
   "source": [
    "## Ask our question in Arabic\n",
    "We'll now ask whether we can bring birds to the Vectara office."
   ]
  },
  {
   "cell_type": "code",
   "execution_count": 17,
   "id": "0bed4b09-ed74-4f10-aa1d-69a35a56781b",
   "metadata": {},
   "outputs": [
    {
     "name": "stderr",
     "output_type": "stream",
     "text": [
      "09:50:43 +1100 OAuthUtil            INFO:Current timestamp 2024-01-13 09:50:43.981005\n",
      "09:50:43 +1100 OAuthUtil            INFO:Expiry            2024-01-13 10:50:32\n",
      "09:50:43 +1100 OAuthUtil            INFO:Already authenticated with non-expired token, expiry is [1705103432]\n",
      "09:50:43 +1100 RequestUtil          INFO:URL for operation query is: https://api.vectara.io/v1/query\n"
     ]
    }
   ],
   "source": [
    "query_service = client.query_service\n",
    "query = \"هل يمكنني إحضار أي طيور إلى مكتب Vectara؟\"\n",
    "#query = \"Can I bring birds to the Vectara office?\"\n",
    "response = query_service.query(query, corpus_id, response_lang=\"ar\")\n",
    "#response = query_service.query(query, corpus_id, response_lang=\"en\")"
   ]
  },
  {
   "cell_type": "markdown",
   "id": "a0dcf825-3061-4321-ae98-38b48a2138d6",
   "metadata": {},
   "source": [
    "## Show Result in Markdown\n",
    "We'll now use the utility method \"renderMarkdown\" to render the Python dict"
   ]
  },
  {
   "cell_type": "code",
   "execution_count": 18,
   "id": "94191305-e66c-4296-ac69-1cb4cb907abe",
   "metadata": {},
   "outputs": [
    {
     "data": {
      "text/markdown": [
       "\n",
       "# Query: هل يمكنني إحضار أي طيور إلى مكتب Vectara؟\n",
       "\n",
       "يعتمد سياسة الحيوانات الأليفة في مكتب Vectara على تشجيع وجود الطيور في مكان العمل [2]. يسمح بإحضار الطيور إلى مكتب Vectara ويعتبرونها استثناءً لسياسة الحيوانات الأليفة [2]. يعتبر Vectara ملتزمًا بحماية الحياة البرية ويدعم جهود الحفاظ على الحيوانات المهددة بالانقراض [3]. يركزون على الابتكار والتحدي، ويقومون برعاية مبادرة \"Adopt a Rhino\" [3]. لذا، يمكنك إحضار أي طيور إلى مكتب Vectara، وهم يشجعون هذه المبادرة [2].\n",
       "\n",
       " 1. 7.2 - Company Pet Policy 7.2.1: The Usual Suspects - Cats & Dogs <b>We regret to inform you that common household pets such as cats and dogs are not allowed on\n",
       "the Vectara campuses.</b> Why, you ask? Because at Vectara, we're all about breaking the mold and\n",
       "challenging the status quo. Cats and dogs are wonderful, but we believe in taking a walk on the\n",
       "wild side. *score: 0.7452122, doc-id: vectara_employee_handbook.pdf*\n",
       " 2. It's a celebration of the\n",
       "unconventional, the daring, and the extraordinary that deﬁnes Vectara. 7.2.3: The Avian Exception - Birds of a Feather <b>At Vectara, we believe in soaring to new heights, and what better way to embody that spirit than\n",
       "by allowing birds into our workspace?</b> Yes, you read that right! Birds are not only permitted but\n",
       "encouraged. *score: 0.72727644, doc-id: vectara_employee_handbook.pdf*\n",
       " 3. ○   Employee safety and animal welfare are our top priorities. Adoption Programs <b>The Conservation Connection: Vectara is committed to wildlife conservation.</b> Our exotic pet\n",
       "policy is aligned with global conservation efforts, and we actively support initiatives to protect\n",
       "endangered species. Our \"Adopt a Rhino\" program is a proud example. *score: 0.716654, doc-id: vectara_employee_handbook.pdf*\n",
       " 4. Employee Handbook - Company Pet Policy <b>Vectara Employee Handbook</b> This employee handbook covers all the essential information to make you successful at\n",
       "Vectara. 7.2 - Company Pet Policy *score: 0.70452905, doc-id: vectara_employee_handbook.pdf*\n",
       " 5. Our annual \"Bear Hug Day\" is a heartwarming tradition that fosters camaraderie both in\n",
       "       the oﬃce and in the ICU. On-site Mini Zoo <b>●   The Vectara Zoo\n",
       "               ○   Our on-site mini-zoo is home to these extraordinary animals.</b> It's a place of\n",
       "                       inspiration, relaxation, and education. ○   Guided tours, animal interaction sessions, and wildlife workshops are regular\n",
       "features. *score: 0.6999856, doc-id: vectara_employee_handbook.pdf*\n",
       " 6. It's our\n",
       "way of honoring the traditional bond between humans and their beloved pets while maintaining\n",
       "our commitment to the extraordinary. While we adore cats and dogs, we must respectfully ask that they remain at home, where they\n",
       "can continue their secret missions, philosophical ponderings, and adorable antics. <b>At Vectara,\n",
       "we're forging a new path, one that requires us to leave behind the familiar and embrace the wild\n",
       "unknown.</b> Rest assured, your feline and canine companions will be cheering you on from the\n",
       "comfort of their favorite sunlit windows and cozy dog beds. 7.2.2: The Exotic Exceptions - Unleashing the Unusual *score: 0.68761194, doc-id: vectara_employee_handbook.pdf*\n",
       " 7. These shenanigans expose the\n",
       "company to far too many potential legal issues. Furthermore, we've consulted with leading pet psychologists, animal behaviorists, and even a\n",
       "few wizards to understand the complex dynamics between humans and their four-legged\n",
       "companions. <b>The conclusion? Cats and dogs are simply too mainstream for Vectara's\n",
       "avant-garde environment.</b> They're playing chess while we're orchestrating interdimensional\n",
       "quantum maneuvers. We also considered the potential distractions. *score: 0.6760498, doc-id: vectara_employee_handbook.pdf*\n",
       " 8. Our \"Alligator Think Tank\" sessions are legendary for generating groundbreaking ideas. The Team-building Adventures: From velociraptor training simulations to bear dance-offs, our\n",
       "exotic pet interactions are designed to build teamwork, enhance communication, and inject fun\n",
       "into the workplace. <b>The Vectara Values: Our choice of exotic pets is not a mere novelty; it reﬂects our core values of\n",
       "innovation, courage, and unconventional thinking.</b> It's a living testament to our belief in challenging norms and embracing the extraordinary. The Responsibility Reminder: With the privilege of hosting these magniﬁcent creatures comes\n",
       "the responsibility to respect their nature and needs. *score: 0.6755271, doc-id: vectara_employee_handbook.pdf*\n",
       " 9. Rest assured, your feline and canine companions will be cheering you on from the\n",
       "comfort of their favorite sunlit windows and cozy dog beds. 7.2.2: The Exotic Exceptions - Unleashing the Unusual <b>At Vectara, we pride ourselves on thinking outside the box, and our pet policy is no exception.</b> While common household pets like cats and dogs are not permitted, we welcome a select group\n",
       "of exotic creatures that reﬂect our daring and innovative spirit. Here's a closer look at our unique\n",
       "approach: *score: 0.67401236, doc-id: vectara_employee_handbook.pdf*\n",
       " 10. 7.2.1: The Usual Suspects - Cats & Dogs We regret to inform you that common household pets such as cats and dogs are not allowed on\n",
       "the Vectara campuses. <b>Why, you ask? Because at Vectara, we're all about breaking the mold and\n",
       "challenging the status quo.</b> Cats and dogs are wonderful, but we believe in taking a walk on the\n",
       "wild side. Besides, we've heard that cats are secretly plotting world domination, and we can't\n",
       "have that in our innovation hub! *score: 0.6737649, doc-id: vectara_employee_handbook.pdf*\n"
      ],
      "text/plain": [
       "<IPython.core.display.Markdown object>"
      ]
     },
     "metadata": {},
     "output_type": "display_data"
    }
   ],
   "source": [
    "from vectara_client.util import render_markdown\n",
    "from IPython.display import display, Markdown\n",
    "rendered = render_markdown(query, response)\n",
    "display(Markdown(rendered))"
   ]
  }
 ],
 "metadata": {
  "kernelspec": {
   "display_name": "Python 3 (ipykernel)",
   "language": "python",
   "name": "python3"
  },
  "language_info": {
   "codemirror_mode": {
    "name": "ipython",
    "version": 3
   },
   "file_extension": ".py",
   "mimetype": "text/x-python",
   "name": "python",
   "nbconvert_exporter": "python",
   "pygments_lexer": "ipython3",
   "version": "3.12.1"
  }
 },
 "nbformat": 4,
 "nbformat_minor": 5
}
