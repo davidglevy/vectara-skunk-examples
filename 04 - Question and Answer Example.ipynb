{
 "cells": [
  {
   "cell_type": "markdown",
   "id": "d03b1326-e295-4baa-b9c0-884039566538",
   "metadata": {},
   "source": [
    "# Question and Answering Example\n",
    "\n",
    "For this notebook, we're going to demonstrate the improvement which can be made when we add curation to our corpus to make it more suitable for a question/answering system. We'll also change the semantics on our query to \"RESPONSE\" to make it more suitable for our use case\n",
    "\n",
    "More documentation about this setup can be found here: https://docs.vectara.com/docs/learn/question-answer/question-answer-overview"
   ]
  },
  {
   "cell_type": "markdown",
   "id": "48a6b26d-1564-4606-b4ed-0e0ec3fb7ef8",
   "metadata": {},
   "source": [
    "## Exercise Setup\n",
    "We'll now create a test corpus for this exercise, "
   ]
  },
  {
   "cell_type": "code",
   "execution_count": 1,
   "id": "f0919939-b03b-4097-9763-37cb481b2670",
   "metadata": {},
   "outputs": [
    {
     "name": "stdout",
     "output_type": "stream",
     "text": [
      "Note: you may need to restart the kernel to use updated packages.\n"
     ]
    }
   ],
   "source": [
    "%pip install -q vectara-skunk-client==0.2.9"
   ]
  },
  {
   "cell_type": "code",
   "execution_count": 2,
   "id": "3007aa8a-41ae-42c8-a69a-8c9bf0008513",
   "metadata": {},
   "outputs": [
    {
     "name": "stderr",
     "output_type": "stream",
     "text": [
      "11:08:19 +1100 lab_setup            INFO:User prefix for lab: david\n",
      "11:08:19 +1100 lab_setup            INFO:Setting up lab corpus with name [david-q-and-a-example]\n",
      "11:08:19 +1100 Factory              INFO:initializing builder\n",
      "11:08:19 +1100 Factory              INFO:Factory will load configuration from home directory\n",
      "11:08:19 +1100 HomeConfigLoader     INFO:Loading configuration from users home directory [C:\\Users\\david]\n",
      "11:08:19 +1100 HomeConfigLoader     INFO:Loading default configuration [default]\n",
      "11:08:19 +1100 HomeConfigLoader     INFO:Parsing config\n",
      "11:08:19 +1100 root                 INFO:We are processing authentication type [OAuth2]\n",
      "11:08:19 +1100 OAuthUtil            INFO:Using provided OAuth2 URL [https://vectara-prod-1623270172.auth.us-west-2.amazoncognito.com/oauth2/token]\n",
      "11:08:19 +1100 OAuthUtil            INFO:OAuth2 URL is [https://vectara-prod-1623270172.auth.us-west-2.amazoncognito.com/oauth2/token]\n",
      "11:08:19 +1100 root                 INFO:initializing Client\n",
      "11:08:19 +1100 OAuthUtil            INFO:Current timestamp 2023-12-30 11:08:19.980758\n",
      "11:08:19 +1100 OAuthUtil            INFO:First time requesting token, authenticating\n",
      "11:08:22 +1100 OAuthUtil            INFO:Received OAuth token, will expire [12/30/2023, 12:08:22]\n",
      "11:08:22 +1100 OAuthUtil            INFO:Already authenticated with non-expired token, expiry is [1703898502]\n",
      "11:08:22 +1100 RequestUtil          INFO:URL for operation list-corpora is: https://api.vectara.io/v1/list-corpora\n",
      "11:08:23 +1100 OAuthUtil            INFO:Current timestamp 2023-12-30 11:08:23.928618\n",
      "11:08:23 +1100 OAuthUtil            INFO:Expiry            2023-12-30 12:08:22\n",
      "11:08:23 +1100 OAuthUtil            INFO:Already authenticated with non-expired token, expiry is [1703898502]\n",
      "11:08:23 +1100 RequestUtil          INFO:URL for operation delete-corpus is: https://api.vectara.io/v1/delete-corpus\n",
      "11:08:26 +1100 OAuthUtil            INFO:Current timestamp 2023-12-30 11:08:26.575293\n",
      "11:08:26 +1100 OAuthUtil            INFO:Expiry            2023-12-30 12:08:22\n",
      "11:08:26 +1100 OAuthUtil            INFO:Already authenticated with non-expired token, expiry is [1703898502]\n",
      "11:08:26 +1100 RequestUtil          INFO:URL for operation create-corpus is: https://api.vectara.io/v1/create-corpus\n",
      "11:08:29 +1100 AdminService         INFO:Created new corpus with 136\n",
      "11:08:29 +1100 root                 INFO:New corpus created CreateCorpusResponse(corpusId=136, status=Status(code=<StatusCode.OK: 0>, statusDetail='Corpus Created'))\n",
      "11:08:29 +1100 lab_setup            INFO:New lab created with id [136]\n"
     ]
    }
   ],
   "source": [
    "from lab_setup import create_lab_corpus\n",
    "corpus_id = create_lab_corpus(\"q-and-a-example\")"
   ]
  },
  {
   "cell_type": "markdown",
   "id": "ef02758e-6854-4350-8d42-5ae74fa65b8e",
   "metadata": {},
   "source": [
    "## Unstructured Structured Documents\n",
    "We'll now upload some unstructured documents from Wikipedia regarding the monarchy. These were downloaded and saved under \"resources/04_q_and_a_example\""
   ]
  },
  {
   "cell_type": "code",
   "execution_count": 3,
   "id": "b125804d-0ba5-433e-a45f-8dcf60db001f",
   "metadata": {},
   "outputs": [
    {
     "name": "stderr",
     "output_type": "stream",
     "text": [
      "11:08:36 +1100 Factory              INFO:initializing builder\n",
      "11:08:36 +1100 Factory              INFO:Factory will load configuration from home directory\n",
      "11:08:36 +1100 HomeConfigLoader     INFO:Loading configuration from users home directory [C:\\Users\\david]\n",
      "11:08:36 +1100 HomeConfigLoader     INFO:Loading default configuration [default]\n",
      "11:08:36 +1100 HomeConfigLoader     INFO:Parsing config\n",
      "11:08:36 +1100 root                 INFO:We are processing authentication type [OAuth2]\n",
      "11:08:36 +1100 OAuthUtil            INFO:Using provided OAuth2 URL [https://vectara-prod-1623270172.auth.us-west-2.amazoncognito.com/oauth2/token]\n",
      "11:08:36 +1100 OAuthUtil            INFO:OAuth2 URL is [https://vectara-prod-1623270172.auth.us-west-2.amazoncognito.com/oauth2/token]\n",
      "11:08:36 +1100 root                 INFO:initializing Client\n",
      "11:08:36 +1100 IndexerService       INFO:Headers: {\"c\": \"1623270172\", \"o\": \"136\"}\n",
      "11:08:36 +1100 OAuthUtil            INFO:Current timestamp 2023-12-30 11:08:36.253358\n",
      "11:08:36 +1100 OAuthUtil            INFO:First time requesting token, authenticating\n",
      "11:08:37 +1100 OAuthUtil            INFO:Received OAuth token, will expire [12/30/2023, 12:08:37]\n",
      "11:08:37 +1100 OAuthUtil            INFO:Already authenticated with non-expired token, expiry is [1703898517]\n",
      "Monarchy_of_the_United_Kingdom.pdf: 2.12MB [00:10, 217kB/s]                                                          \n"
     ]
    },
    {
     "data": {
      "text/plain": [
       "UploadDocumentResponse(response=UploadDocumentResponseInner(status=None, quotaConsumed=StorageQuota(numChars='84090', numMetadataChars='50516')), document=None)"
      ]
     },
     "execution_count": 3,
     "metadata": {},
     "output_type": "execute_result"
    }
   ],
   "source": [
    "from pathlib import Path\n",
    "from vectara.core import Factory\n",
    "\n",
    "pdf_path = Path(\"resources/04_q_and_a_example/Monarchy_of_the_United_Kingdom.pdf\")\n",
    "\n",
    "client = Factory().build()\n",
    "indexer = client.indexer_service\n",
    "\n",
    "indexer.upload(corpus_id, path=pdf_path)"
   ]
  },
  {
   "cell_type": "markdown",
   "id": "f496ce7d-936e-4ab9-8069-8a2f2aac775a",
   "metadata": {},
   "source": [
    "## Run our Query\n",
    "We'll now run our query - first with the \"default\" semantics followed by a second pass with \"response\" semantics."
   ]
  },
  {
   "cell_type": "code",
   "execution_count": 6,
   "id": "c64be6bc-554f-40f3-94b0-1b1b03d6bdfc",
   "metadata": {},
   "outputs": [
    {
     "name": "stderr",
     "output_type": "stream",
     "text": [
      "11:11:01 +1100 OAuthUtil            INFO:Current timestamp 2023-12-30 11:11:01.724594\n",
      "11:11:01 +1100 OAuthUtil            INFO:Expiry            2023-12-30 12:08:37\n",
      "11:11:01 +1100 OAuthUtil            INFO:Already authenticated with non-expired token, expiry is [1703898517]\n",
      "11:11:01 +1100 RequestUtil          INFO:URL for operation query is: https://api.vectara.io/v1/query\n"
     ]
    },
    {
     "data": {
      "text/markdown": [
       "\n",
       "# Query: Who's the current English monarch?\n",
       "\n",
       "The current English monarch is King Charles III, who ascended the throne on 8 September 2022, following the death of his mother, Queen Elizabeth II [1]. The English monarchy has undergone changes throughout history, with the powers of the monarch being reduced over time [2]. The English monarch also holds the title of King of Ireland [3]. The historical residences of the English monarch included the Palace of Westminster, the Tower of London, and later, the Palace of Whitehall [4].\n",
       "\n",
       " 1. Overseas Territories. <b>The current monarch is King Charles III, who</b> ascended the throne on 8 September 2022, upon the death of his\n",
       "mother, Queen Elizabeth II. *score: 1.1136668, doc-id: Monarchy_of_the_United_Kingdom.pdf*\n",
       " 2. Meanwhile,  Magna  Carta  began  the  process  of  reducing  the <b>English monarch's political powers.</b> In the 16th century, English\n",
       "and Scottish monarchs played a central role in what became the\n",
       "religious English Reformation and Scottish Reformation, and the\n",
       "English king became King of Ireland. *score: 0.9440856, doc-id: Monarchy_of_the_United_Kingdom.pdf*\n",
       " 3. Head of the Church of England. <b>The Pope's grant of Ireland to the English monarch became invalid, so</b> Henry summoned a meeting of the Irish Parliament to change his title from Lord of Ireland to King of\n",
       "Ireland. *score: 0.89832926, doc-id: Monarchy_of_the_United_Kingdom.pdf*\n",
       " 4. History <b>English monarchy</b> Following Viking raids and settlement in the ninth century, the\n",
       "Anglo-Saxon kingdom of Wessex emerged as the dominant English *score: 0.88902587, doc-id: Monarchy_of_the_United_Kingdom.pdf*\n",
       " 5. Historically, the Palace of Westminster and the Tower of London <b>were the main residences of the English monarch until Henry VIII\n",
       "acquired the Palace of Whitehall.</b> Whitehall was destroyed by fire in *score: 0.8634731, doc-id: Monarchy_of_the_United_Kingdom.pdf*\n",
       " 6. English monarch's political powers. <b>In the 16th century, English\n",
       "and Scottish monarchs played a central role in what became the\n",
       "religious English Reformation and Scottish Reformation, and the\n",
       "English king became King of Ireland.</b> Beginning in 1603, the *score: 0.8628973, doc-id: Monarchy_of_the_United_Kingdom.pdf*\n",
       " 7. Saxe-Coburg and Gotha in 1901. <b>In 1917, the next monarch, George</b> V, changed \"Saxe-Coburg and Gotha\" to \"Windsor\" in response to the *score: 0.85346717, doc-id: Monarchy_of_the_United_Kingdom.pdf*\n",
       " 8. Buckingham Palace, in London, <b>England, is the monarch's principal\n",
       "residence.</b> Holyrood Palace, in Edinburgh, *score: 0.85331357, doc-id: Monarchy_of_the_United_Kingdom.pdf*\n",
       " 9. Scotland (the \"Bishops' Wars\") and ignited the Wars of the Three\n",
       "Kingdoms. <b>In 1642, the conflict between the king and English\n",
       "Parliament reached its climax and the English Civil War began.</b> In 1603 James VI and I became the *score: 0.8293591, doc-id: Monarchy_of_the_United_Kingdom.pdf*\n",
       " 10. in 1801, the Kingdom of Ireland joined to create the United Kingdom of Great Britain and Ireland. <b>Beginning in the 16th century, the monarch was the nominal head of what came to be the vast British</b> Empire, which covered a quarter of the world's land area at its greatest extent in 1921. *score: 0.82734287, doc-id: Monarchy_of_the_United_Kingdom.pdf*\n"
      ],
      "text/plain": [
       "<IPython.core.display.Markdown object>"
      ]
     },
     "metadata": {},
     "output_type": "display_data"
    }
   ],
   "source": [
    "from lab_setup import render_response\n",
    "qs = client.query_service\n",
    "query = \"Who's the current English monarch?\"\n",
    "resp = qs.query(query, corpus_id)\n",
    "render_response(query,resp)"
   ]
  },
  {
   "cell_type": "code",
   "execution_count": 7,
   "id": "163ae84c-1a08-42da-b313-6d65bb3e26c7",
   "metadata": {},
   "outputs": [
    {
     "name": "stderr",
     "output_type": "stream",
     "text": [
      "11:11:41 +1100 OAuthUtil            INFO:Current timestamp 2023-12-30 11:11:41.653863\n",
      "11:11:41 +1100 OAuthUtil            INFO:Expiry            2023-12-30 12:08:37\n",
      "11:11:41 +1100 OAuthUtil            INFO:Already authenticated with non-expired token, expiry is [1703898517]\n",
      "11:11:41 +1100 RequestUtil          INFO:URL for operation query is: https://api.vectara.io/v1/query\n"
     ]
    },
    {
     "data": {
      "text/markdown": [
       "\n",
       "# Query: Who's the current English monarch?\n",
       "\n",
       "The current English monarch is King Charles III, who ascended the throne on September 8, 2022, following the death of his mother, Queen Elizabeth II [1]. The English monarchy historically held significant political powers, but the Magna Carta marked the beginning of a reduction in the monarch's political authority [2]. The English king also became the King of Ireland [2]. The main residences of the English monarch were the Palace of Westminster, the Tower of London, and later the Palace of Whitehall [4]. Additionally, the English monarch is the Head of the Church of England [5].\n",
       "\n",
       " 1. Overseas Territories. <b>The current monarch is King Charles III, who</b> ascended the throne on 8 September 2022, upon the death of his\n",
       "mother, Queen Elizabeth II. *score: 1.2285358, doc-id: Monarchy_of_the_United_Kingdom.pdf*\n",
       " 2. Meanwhile,  Magna  Carta  began  the  process  of  reducing  the <b>English monarch's political powers.</b> In the 16th century, English\n",
       "and Scottish monarchs played a central role in what became the\n",
       "religious English Reformation and Scottish Reformation, and the\n",
       "English king became King of Ireland. *score: 1.146245, doc-id: Monarchy_of_the_United_Kingdom.pdf*\n",
       " 3. History <b>English monarchy</b> Following Viking raids and settlement in the ninth century, the\n",
       "Anglo-Saxon kingdom of Wessex emerged as the dominant English *score: 1.0725487, doc-id: Monarchy_of_the_United_Kingdom.pdf*\n",
       " 4. Historically, the Palace of Westminster and the Tower of London <b>were the main residences of the English monarch until Henry VIII\n",
       "acquired the Palace of Whitehall.</b> Whitehall was destroyed by fire in *score: 1.0339198, doc-id: Monarchy_of_the_United_Kingdom.pdf*\n",
       " 5. Head of the Church of England. <b>The Pope's grant of Ireland to the English monarch became invalid, so</b> Henry summoned a meeting of the Irish Parliament to change his title from Lord of Ireland to King of\n",
       "Ireland. *score: 1.0295053, doc-id: Monarchy_of_the_United_Kingdom.pdf*\n",
       " 6. When Robert III died in 1406, regents had to rule the country; the monarch, Robert III's son James I, had <b>been taken captive by the English.</b> Having paid a large ransom, James returned to Scotland in 1424; to\n",
       "restore his authority, he used ruthless measures, including the execution of several of his enemies. *score: 1.0107003, doc-id: Monarchy_of_the_United_Kingdom.pdf*\n",
       " 7. Buckingham Palace, in London, <b>England, is the monarch's principal\n",
       "residence.</b> Holyrood Palace, in Edinburgh, *score: 1.0063326, doc-id: Monarchy_of_the_United_Kingdom.pdf*\n",
       " 8. Bagehot, Walter (2001). <b>Smith, Paul (ed.). The English Constitution.</b> Cambridge University *score: 0.9962703, doc-id: Monarchy_of_the_United_Kingdom.pdf*\n",
       " 9. w.royal.gov.uk/MonarchUK/QueenandChurch/QueenandtheChurchofEngland.aspx), Official <b>website of the British Monarchy, archived from the original (http://www.royal.gov.uk/Monarch</b> UK/QueenandChurch/QueenandtheChurchofEngland.aspx) on 2 December 2010, retrieved *score: 0.98898715, doc-id: Monarchy_of_the_United_Kingdom.pdf*\n",
       " 10. yal.gov.uk/MonarchUK/QueenandChurch/QueenandtheChurchofScotland.aspx), Official <b>website of the British Monarchy, archived from the original (http://www.royal.gov.uk/Monarch</b> UK/QueenandChurch/QueenandtheChurchofScotland.aspx) on 2 December 2010, retrieved *score: 0.9880051, doc-id: Monarchy_of_the_United_Kingdom.pdf*\n"
      ],
      "text/plain": [
       "<IPython.core.display.Markdown object>"
      ]
     },
     "metadata": {},
     "output_type": "display_data"
    }
   ],
   "source": [
    "resp = qs.query(query, corpus_id,semantics=\"RESPONSE\")\n",
    "render_response(query,resp)"
   ]
  }
 ],
 "metadata": {
  "kernelspec": {
   "display_name": "Python 3 (ipykernel)",
   "language": "python",
   "name": "python3"
  },
  "language_info": {
   "codemirror_mode": {
    "name": "ipython",
    "version": 3
   },
   "file_extension": ".py",
   "mimetype": "text/x-python",
   "name": "python",
   "nbconvert_exporter": "python",
   "pygments_lexer": "ipython3",
   "version": "3.12.1"
  }
 },
 "nbformat": 4,
 "nbformat_minor": 5
}
