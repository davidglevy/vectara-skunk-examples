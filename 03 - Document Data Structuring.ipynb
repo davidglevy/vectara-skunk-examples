{
 "cells": [
  {
   "cell_type": "code",
   "execution_count": 1,
   "id": "de8b3c38-525b-4440-bfba-e7e940f4ea06",
   "metadata": {},
   "outputs": [
    {
     "name": "stdout",
     "output_type": "stream",
     "text": [
      "Note: you may need to restart the kernel to use updated packages.\n"
     ]
    }
   ],
   "source": [
    "%pip install -q vectara-skunk-client==0.4.11"
   ]
  },
  {
   "cell_type": "markdown",
   "id": "2b139bf4-1200-4ce6-9495-8ca12d34050b",
   "metadata": {},
   "source": [
    "# Document Data Structuring\n",
    "Munging files into a structured data format helps preserve relationships between bits of data, retains special meaning of specific data types, and enables users to query the data with filters.\n",
    "\n",
    "Let's use this National Institute of Health PDF as an example:\n",
    "\n",
    "[www.techtransfer.nih.gov_tech_tab-3843.pdf](https://docs.vectara.com/assets/files/www.techtransfer.nih.gov_tech_tab-3843-db3371f8a405d760356376da51ce9a53.pdf)\n",
    "\n",
    "Vectara offers a structured data format where users can convert PDFs to a format like the following structure"
   ]
  },
  {
   "cell_type": "code",
   "execution_count": 2,
   "id": "d85a80a9-3db5-4726-b7f3-cfb80d9e61df",
   "metadata": {},
   "outputs": [
    {
     "name": "stdout",
     "output_type": "stream",
     "text": [
      "{\n",
      "  \"documentId\": \"TAB‑3843\",\n",
      "  \"title\": \"Engineered Cell‑Penetrating Monoclonal Antibody for Universal Inuenza Immunotherapy\",\n",
      "  \"description\": \"Home » Tech » Engineered Cell‑Penetrating Monoclonal Antibody for Universal Inuenza Immunotherapy\",\n",
      "  \"metadataJson\": \"{'developmentStatus': 'Pre‑Clinical', 'isAntibodiesProduct': true, 'date': '2023‑05‑17', 'patentSeriesCode' :63, 'patentApplicationNumber' :365841}\",\n",
      "  \"section\": [{\n",
      "    \"title\": \"body\",\n",
      "    \"text\": \"Influenza remains a burden on public health...\"\n",
      "  }, {\n",
      "    \"title\": \"Clinical treatment\",\n",
      "    \n",
      "    \"text\": \"Clinical Treatment꞉ CPP‑mAbs against influenza NP may...\",\n",
      "    \"metadataJson\": \"{'clinicalTreatment'꞉ 'CPP‑mAbs against influenza NP may...'}\"\n",
      "  }, {\n",
      "    \"text\": \"Current vaccines remain effective for a short time period...\"\n",
      "  }]\n",
      "}\n"
     ]
    }
   ],
   "source": [
    "from pathlib import Path\n",
    "import json\n",
    "\n",
    "json_file = Path(\"./resources/03_dds/document_example.json\")\n",
    "\n",
    "with open(json_file, 'r', encoding='utf-8') as f:\n",
    "    json_content = f.read()\n",
    "print(json_content)"
   ]
  },
  {
   "cell_type": "markdown",
   "id": "f6457b57-9693-440d-9a17-231a2fd99594",
   "metadata": {},
   "source": [
    "## Setup Exercise - Create Corpus\n",
    "We'll now use some of the familiar code you've seen earlier to create a new lab exercise. We've now put this code into our module \"lab_setup\". Please review this if you're curious about the steps it is performing."
   ]
  },
  {
   "cell_type": "code",
   "execution_count": 3,
   "id": "01ad4a0a-1d46-4639-b121-90c52f9898ca",
   "metadata": {},
   "outputs": [
    {
     "name": "stderr",
     "output_type": "stream",
     "text": [
      "08:55:35 +1100 lab_setup            INFO:User prefix for lab: david\n",
      "08:55:35 +1100 lab_setup            INFO:Setting up lab corpus with name [david-03_document_data_structuring]\n",
      "08:55:35 +1100 Factory              INFO:initializing builder\n",
      "08:55:35 +1100 Factory              INFO:Factory will load configuration from home directory\n",
      "08:55:35 +1100 HomeConfigLoader     INFO:Loading configuration from users home directory [C:\\Users\\david]\n",
      "08:55:35 +1100 HomeConfigLoader     INFO:Loading default configuration [default]\n",
      "08:55:35 +1100 HomeConfigLoader     INFO:Parsing config\n",
      "08:55:35 +1100 root                 INFO:We are processing authentication type [OAuth2]\n",
      "08:55:35 +1100 root                 INFO:initializing Client\n",
      "08:55:37 +1100 RequestUtil          INFO:URL for operation list-corpora is: https://api.vectara.io/v1/list-corpora\n",
      "08:55:38 +1100 root                 INFO:No existing corpus with the name david-03_document_data_structuring\n",
      "08:55:38 +1100 RequestUtil          INFO:URL for operation create-corpus is: https://api.vectara.io/v1/create-corpus\n",
      "08:55:40 +1100 AdminService         INFO:Created new corpus with 244\n",
      "08:55:40 +1100 root                 INFO:New corpus created CreateCorpusResponse(corpusId=244, status=Status(code=<StatusCode.OK: 0>, statusDetail='Corpus Created', cause=None))\n",
      "08:55:40 +1100 lab_setup            INFO:New lab created with id [244]\n"
     ]
    }
   ],
   "source": [
    "from lab_setup import create_lab_corpus\n",
    "\n",
    "corpus_id = create_lab_corpus(\"03_document_data_structuring\")"
   ]
  },
  {
   "cell_type": "markdown",
   "id": "f86bccc4-42f2-4113-96cc-1a826a9cf92f",
   "metadata": {},
   "source": [
    "## Download PDF and upload to Vectara\n",
    "We'll now use Python to download the PDF and the vectara-skunk-client to upload to Vectara in our new corpus."
   ]
  },
  {
   "cell_type": "code",
   "execution_count": 4,
   "id": "5d9bd754-a6e2-4582-8b70-987aa97ff4df",
   "metadata": {},
   "outputs": [
    {
     "name": "stderr",
     "output_type": "stream",
     "text": [
      "08:55:50 +1100 Factory              INFO:initializing builder\n",
      "08:55:50 +1100 Factory              INFO:Factory will load configuration from home directory\n",
      "08:55:50 +1100 HomeConfigLoader     INFO:Loading configuration from users home directory [C:\\Users\\david]\n",
      "08:55:50 +1100 HomeConfigLoader     INFO:Loading default configuration [default]\n",
      "08:55:50 +1100 HomeConfigLoader     INFO:Parsing config\n",
      "08:55:50 +1100 root                 INFO:We are processing authentication type [OAuth2]\n",
      "08:55:50 +1100 root                 INFO:initializing Client\n",
      "08:55:50 +1100 IndexerService       INFO:Headers: {\"c\": \"1623270172\", \"o\": \"244\"}\n",
      "www.techtransfer.nih.gov_tech_tab-3843.pdf: 157kB [00:03, 42.2kB/s]                                                  \n"
     ]
    }
   ],
   "source": [
    "from urllib import request\n",
    "from vectara.client.core import Factory\n",
    "\n",
    "local_file = \"www.techtransfer.nih.gov_tech_tab-3843.pdf\"\n",
    "request.urlretrieve(\"https://docs.vectara.com/assets/files/www.techtransfer.nih.gov_tech_tab-3843-db3371f8a405d760356376da51ce9a53.pdf\", local_file)\n",
    "\n",
    "indexer_service = Factory().build().indexer_service\n",
    "result = indexer_service.upload(corpus_id, local_file, return_extracted=True)"
   ]
  },
  {
   "cell_type": "markdown",
   "id": "e8946b51-3626-4ca0-8be0-f4b62beea72a",
   "metadata": {},
   "source": [
    "## Inspect the Result\n",
    "We'll now have a look at the response object returned.\n",
    "* Notice that it is a Domain Class (rather than a dict) which means it is more strongly typed and more easily accessed\n",
    "* We can view the converted body or retain it for upload into another corpus for environment based promotion."
   ]
  },
  {
   "cell_type": "code",
   "execution_count": 5,
   "id": "44e1cfc6-da55-4520-95d4-4f6118abc440",
   "metadata": {},
   "outputs": [
    {
     "data": {
      "text/plain": [
       "vectara.client.domain.UploadDocumentResponse"
      ]
     },
     "execution_count": 5,
     "metadata": {},
     "output_type": "execute_result"
    }
   ],
   "source": [
    "type(result)"
   ]
  },
  {
   "cell_type": "code",
   "execution_count": 6,
   "id": "509a328b-eb96-45f2-82fe-f6542c2eede4",
   "metadata": {},
   "outputs": [
    {
     "name": "stderr",
     "output_type": "stream",
     "text": [
      "08:55:55 +1100 root                 INFO:Lets look at the status:\n",
      "{\n",
      "    \"status\": null,\n",
      "    \"quotaConsumed\": {\n",
      "        \"numChars\": \"3494\",\n",
      "        \"numMetadataChars\": \"1849\"\n",
      "    }\n",
      "}\n"
     ]
    }
   ],
   "source": [
    "import logging\n",
    "from dataclasses import asdict\n",
    "response_info_json = json.dumps(asdict(result.response),indent=4)\n",
    "logging.info(f\"Lets look at the status:\\n{response_info_json}\")"
   ]
  },
  {
   "cell_type": "code",
   "execution_count": 7,
   "id": "4f06bccd-4e0a-4578-afbf-55b534595052",
   "metadata": {},
   "outputs": [
    {
     "name": "stderr",
     "output_type": "stream",
     "text": [
      "08:55:58 +1100 root                 INFO:Lets look at the start of the document:{\n",
      "    \"documentId\": \"www.techtransfer.nih.gov_tech_tab-3843.pdf\",\n",
      "    \"title\": \"Bookmarks     Register     Login\",\n",
      "    \"description\": null,\n",
      "    \"metadata_json\": null,\n",
      "    \"customDims\": null,\n",
      "    \"section\": [\n",
      "        {\n",
      "            \"id\": null,\n",
      "            \"title\": null,\n",
      "            \"text\": \"Bookmarks     Register     Login\",\n",
      "            \"metadataJson\": null,\n",
      "            \"customDims\": null,\n",
      "            \"section\": null\n",
      "        },\n",
      "        {\n",
      "            \"id\": 1,\n",
      "            \"title\": null,\n",
      "            \"text\": \"\\uf0c9\",\n",
      "            \"metadataJson\": null,\n",
      "            \"customDims\": null,\n",
      "            \"section\": null\n",
      "        },\n",
      "        {\n",
      "            \"id\": 2,\n",
      "            \"title\": null,\n",
      "            \"text\": \"Search Site...\",\n",
      "            \"metadataJson\": null,\n",
      "            \"customDims\": null,\n",
      "            \"se\n"
     ]
    }
   ],
   "source": [
    "document_json = json.dumps(asdict(result.document),indent=4)\n",
    "logging.info(f\"Lets look at the start of the document:{document_json[:800]}\")"
   ]
  }
 ],
 "metadata": {
  "kernelspec": {
   "display_name": "Python 3 (ipykernel)",
   "language": "python",
   "name": "python3"
  },
  "language_info": {
   "codemirror_mode": {
    "name": "ipython",
    "version": 3
   },
   "file_extension": ".py",
   "mimetype": "text/x-python",
   "name": "python",
   "nbconvert_exporter": "python",
   "pygments_lexer": "ipython3",
   "version": "3.12.1"
  }
 },
 "nbformat": 4,
 "nbformat_minor": 5
}
