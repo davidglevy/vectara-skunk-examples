{
 "cells": [
  {
   "cell_type": "markdown",
   "id": "d03b1326-e295-4baa-b9c0-884039566538",
   "metadata": {},
   "source": [
    "# Question and Answering Example\n",
    "\n",
    "For this notebook, we're going to demonstrate the improvement which can be made when we add curation to our corpus to make it more suitable for a question/answering system. We'll also change the semantics on our query to \"RESPONSE\" to make it more suitable for our use case\n",
    "\n",
    "More documentation about this setup can be found here: https://docs.vectara.com/docs/learn/question-answer/question-answer-overview"
   ]
  },
  {
   "cell_type": "markdown",
   "id": "48a6b26d-1564-4606-b4ed-0e0ec3fb7ef8",
   "metadata": {},
   "source": [
    "## Exercise Setup\n",
    "We'll now create a test corpus for this exercise, "
   ]
  },
  {
   "cell_type": "code",
   "execution_count": 6,
   "id": "f0919939-b03b-4097-9763-37cb481b2670",
   "metadata": {},
   "outputs": [
    {
     "name": "stdout",
     "output_type": "stream",
     "text": [
      "Note: you may need to restart the kernel to use updated packages.\n"
     ]
    }
   ],
   "source": [
    "%pip install -q vectara-skunk-client==0.4.13"
   ]
  },
  {
   "cell_type": "code",
   "execution_count": 7,
   "id": "3007aa8a-41ae-42c8-a69a-8c9bf0008513",
   "metadata": {},
   "outputs": [
    {
     "name": "stderr",
     "output_type": "stream",
     "text": [
      "09:47:42 +1100 lab_setup            INFO:User prefix for lab: david\n",
      "09:47:42 +1100 lab_setup            INFO:Setting up lab corpus with name [david-q-and-a-example]\n",
      "09:47:42 +1100 Factory              INFO:initializing builder\n",
      "09:47:42 +1100 Factory              INFO:Factory will load configuration from home directory\n",
      "09:47:42 +1100 HomeConfigLoader     INFO:Loading configuration from users home directory [C:\\Users\\david]\n",
      "09:47:42 +1100 HomeConfigLoader     INFO:Loading default configuration [default]\n",
      "09:47:42 +1100 HomeConfigLoader     INFO:Parsing config\n",
      "09:47:42 +1100 root                 INFO:We are processing authentication type [OAuth2]\n",
      "09:47:42 +1100 root                 INFO:initializing Client\n",
      "09:47:44 +1100 RequestUtil          INFO:URL for operation list-corpora is: https://api.vectara.io/v1/list-corpora\n",
      "09:47:45 +1100 RequestUtil          INFO:URL for operation delete-corpus is: https://api.vectara.io/v1/delete-corpus\n",
      "09:47:47 +1100 RequestUtil          INFO:URL for operation create-corpus is: https://api.vectara.io/v1/create-corpus\n",
      "09:47:49 +1100 AdminService         INFO:Created new corpus with 256\n",
      "09:47:49 +1100 root                 INFO:New corpus created CreateCorpusResponse(corpusId=256, status=Status(code=<StatusCode.OK: 0>, statusDetail='Corpus Created', cause=None))\n",
      "09:47:49 +1100 lab_setup            INFO:New lab created with id [256]\n"
     ]
    }
   ],
   "source": [
    "from lab_setup import create_lab_corpus\n",
    "corpus_id = create_lab_corpus(\"q-and-a-example\")"
   ]
  },
  {
   "cell_type": "markdown",
   "id": "ef02758e-6854-4350-8d42-5ae74fa65b8e",
   "metadata": {},
   "source": [
    "## Unstructured Structured Documents\n",
    "We'll now upload some unstructured documents from Wikipedia regarding the monarchy. These were downloaded and saved under \"resources/04_q_and_a_example\""
   ]
  },
  {
   "cell_type": "code",
   "execution_count": 8,
   "id": "b125804d-0ba5-433e-a45f-8dcf60db001f",
   "metadata": {},
   "outputs": [
    {
     "name": "stderr",
     "output_type": "stream",
     "text": [
      "09:47:57 +1100 Factory              INFO:initializing builder\n",
      "09:47:57 +1100 Factory              INFO:Factory will load configuration from home directory\n",
      "09:47:57 +1100 HomeConfigLoader     INFO:Loading configuration from users home directory [C:\\Users\\david]\n",
      "09:47:57 +1100 HomeConfigLoader     INFO:Loading default configuration [default]\n",
      "09:47:57 +1100 HomeConfigLoader     INFO:Parsing config\n",
      "09:47:57 +1100 root                 INFO:We are processing authentication type [OAuth2]\n",
      "09:47:57 +1100 root                 INFO:initializing Client\n",
      "09:47:57 +1100 IndexerService       INFO:Headers: {\"c\": \"1623270172\", \"o\": \"256\"}\n",
      "Monarchy_of_the_United_Kingdom.pdf: 2.12MB [00:09, 222kB/s]                                                          \n"
     ]
    },
    {
     "data": {
      "text/plain": [
       "UploadDocumentResponse(response=UploadDocumentResponseInner(status=None, quotaConsumed=StorageQuota(numChars='84090', numMetadataChars='50516')), document=None)"
      ]
     },
     "execution_count": 8,
     "metadata": {},
     "output_type": "execute_result"
    }
   ],
   "source": [
    "from pathlib import Path\n",
    "from vectara_client.core import Factory\n",
    "\n",
    "pdf_path = Path(\"resources/04_q_and_a_example/Monarchy_of_the_United_Kingdom.pdf\")\n",
    "\n",
    "client = Factory().build()\n",
    "indexer = client.indexer_service\n",
    "\n",
    "indexer.upload(corpus_id, path=pdf_path)"
   ]
  },
  {
   "cell_type": "markdown",
   "id": "f496ce7d-936e-4ab9-8069-8a2f2aac775a",
   "metadata": {},
   "source": [
    "## Run our Query\n",
    "We'll now run our query - first with the \"default\" semantics followed by a second pass with \"response\" semantics."
   ]
  },
  {
   "cell_type": "code",
   "execution_count": 9,
   "id": "c64be6bc-554f-40f3-94b0-1b1b03d6bdfc",
   "metadata": {},
   "outputs": [
    {
     "name": "stderr",
     "output_type": "stream",
     "text": [
      "09:48:08 +1100 RequestUtil          INFO:URL for operation query is: https://api.vectara.io/v1/query\n"
     ]
    },
    {
     "data": {
      "text/markdown": [
       "\n",
       "# Query: Who's the current English monarch?\n",
       "\n",
       "The current English monarch is King Charles III, who ascended the throne on 8 September 2022, following the death of his mother, Queen Elizabeth II [1]. The English monarchy has a long history, with the English monarch's political powers being reduced over time, particularly with the introduction of Magna Carta [3]. The English monarchs have also played significant roles in religious reforms, such as the English Reformation and Scottish Reformation, with the English king becoming the King of Ireland [4] [5]. The monarchy has undergone changes and mergers, including the Act of Union that merged the kingdom of Great Britain with Ireland [4].\n",
       "\n",
       " 1. which a hereditary sovereign reigns as the head of state of the\n",
       "United  Kingdom,  the  Crown  Dependencies  and  the  British Overseas Territories. <b>The current monarch is King Charles III, who</b> ascended the throne on 8 September 2022, upon the death of his\n",
       "mother, Queen Elizabeth II. The monarch and their immediate family undertake various official, *score: 1.0422987, doc-id: Monarchy_of_the_United_Kingdom.pdf*\n",
       " 2. The Anglo-Normans also  established  the  Lordship  of Ireland. Meanwhile,  Magna  Carta  began  the  process  of  reducing  the <b>English monarch's political powers.</b> In the 16th century, English\n",
       "and Scottish monarchs played a central role in what became the\n",
       "religious English Reformation and Scottish Reformation, and the\n",
       "English king became King of Ireland. Beginning in 1603, the *score: 0.8958211, doc-id: Monarchy_of_the_United_Kingdom.pdf*\n",
       " 3. For example, the sovereign is exempt from anti-discrimination legislation and other workers'\n",
       "rights, health and safety, or pensions laws, as well as numerous taxes, and environmental inspectors cannot\n",
       "enter the sovereign's property without permission. History <b>English monarchy</b> Following Viking raids and settlement in the ninth century, the\n",
       "Anglo-Saxon kingdom of Wessex emerged as the dominant English kingdom. Alfred the Great secured Wessex, achieved dominance *score: 0.8619253, doc-id: Monarchy_of_the_United_Kingdom.pdf*\n",
       " 4. By 1541, King Henry VIII of England had broken with the Church of Rome and declared himself Supreme Head of the Church of England. <b>The Pope's grant of Ireland to the English monarch became invalid, so</b> Henry summoned a meeting of the Irish Parliament to change his title from Lord of Ireland to King of\n",
       "Ireland. In 1800, as a result of the Irish Rebellion of 1798, the Act of Union merged the kingdom of Great Britain *score: 0.8286518, doc-id: Monarchy_of_the_United_Kingdom.pdf*\n",
       " 5. Meanwhile,  Magna  Carta  began  the  process  of  reducing  the English monarch's political powers. <b>In the 16th century, English\n",
       "and Scottish monarchs played a central role in what became the\n",
       "religious English Reformation and Scottish Reformation, and the\n",
       "English king became King of Ireland.</b> Beginning in 1603, the English and Scottish kingdoms were ruled by a single sovereign. *score: 0.81121063, doc-id: Monarchy_of_the_United_Kingdom.pdf*\n",
       " 6. Other residences include Clarence House and Kensington Palace. Buckingham Palace, in London, <b>England, is the monarch's principal\n",
       "residence.</b> Holyrood Palace, in Edinburgh, Scotland, is the monarch's official\n",
       "Scottish residence. *score: 0.8004799, doc-id: Monarchy_of_the_United_Kingdom.pdf*\n",
       " 7. Victoria's son, Edward VII, became the first monarch of the House of Saxe-Coburg and Gotha in 1901. <b>In 1917, the next monarch, George</b> V, changed \"Saxe-Coburg and Gotha\" to \"Windsor\" in response to the anti-German sympathies aroused by the First World War. *score: 0.7984875, doc-id: Monarchy_of_the_United_Kingdom.pdf*\n",
       " 8. Edinburgh. The monarch stays at Holyrood for at least one week\n",
       "each year, and when visiting Scotland on state occasions. Historically, the Palace of Westminster and the Tower of London <b>were the main residences of the English monarch until Henry VIII\n",
       "acquired the Palace of Whitehall.</b> Whitehall was destroyed by fire in 1698, leading to a shift to St James's Palace. *score: 0.79391783, doc-id: Monarchy_of_the_United_Kingdom.pdf*\n",
       " 9. James VI ruled in\n",
       "England as James I after what was known as the \"Union of the Crowns\". Although England and Scotland were in personal union <b>under one monarch – James I & VI became the first monarch to\n",
       "style himself \"King of Great Britain\" in 1604[59] – they remained\n",
       "two  separate  kingdoms.</b> James I & VI's successor,  Charles I, experienced frequent conflicts with the English Parliament related\n",
       "to the issue of royal and parliamentary powers, especially the power\n",
       "to  impose  taxes. *score: 0.7838194, doc-id: Monarchy_of_the_United_Kingdom.pdf*\n",
       " 10. In June 1948 George VI relinquished the title Emperor of\n",
       "India, although remaining head of state of the Dominion of India. At first, every member of the Commonwealth retained the same monarch as the United Kingdom, but when\n",
       "the Dominion of India became a republic in 1950, it would no longer share in a common monarchy. <b>Instead, the British monarch was acknowledged as \"Head of the Commonwealth\" in all Commonwealth</b> member states, whether they were realms or republics. The position is purely ceremonial, and is not\n",
       "inherited by the British monarch as of right but is vested in an individual chosen by the Commonwealth\n",
       "heads of government. *score: 0.7757001, doc-id: Monarchy_of_the_United_Kingdom.pdf*\n"
      ],
      "text/plain": [
       "<IPython.core.display.Markdown object>"
      ]
     },
     "metadata": {},
     "output_type": "display_data"
    }
   ],
   "source": [
    "from lab_setup import render_response\n",
    "qs = client.query_service\n",
    "query = \"Who's the current English monarch?\"\n",
    "resp = qs.query(query, corpus_id)\n",
    "render_response(query,resp)"
   ]
  },
  {
   "cell_type": "code",
   "execution_count": 10,
   "id": "163ae84c-1a08-42da-b313-6d65bb3e26c7",
   "metadata": {},
   "outputs": [
    {
     "name": "stderr",
     "output_type": "stream",
     "text": [
      "09:48:12 +1100 RequestUtil          INFO:URL for operation query is: https://api.vectara.io/v1/query\n"
     ]
    },
    {
     "data": {
      "text/markdown": [
       "\n",
       "# Query: Who's the current English monarch?\n",
       "\n",
       "The current English monarch is King Charles III,[1] who ascended the throne on September 8, 2022, following the death of his mother, Queen Elizabeth II. The English monarchy has a long history, with the Anglo-Saxon kingdom of Wessex emerging as the dominant English kingdom after Viking raids.[3] Over time, the political powers of the English monarch have been reduced, starting with Magna Carta.[2] The monarch and their immediate family undertake various official duties and have certain exemptions from laws and taxes.[3] The main residences of the English monarch have included the Palace of Westminster, the Tower of London, and later the Palace of Whitehall and St James's Palace.[4] The English monarch's role in Ireland changed over time, with King Henry VIII declaring himself King of Ireland in 1541.[5] Ultimately, the Act of Union in 1800 merged the kingdom of Great Britain and Ireland.[5]\n",
       "\n",
       " 1. which a hereditary sovereign reigns as the head of state of the\n",
       "United  Kingdom,  the  Crown  Dependencies  and  the  British Overseas Territories. <b>The current monarch is King Charles III, who</b> ascended the throne on 8 September 2022, upon the death of his\n",
       "mother, Queen Elizabeth II. The monarch and their immediate family undertake various official, *score: 1.1571677, doc-id: Monarchy_of_the_United_Kingdom.pdf*\n",
       " 2. The Anglo-Normans also  established  the  Lordship  of Ireland. Meanwhile,  Magna  Carta  began  the  process  of  reducing  the <b>English monarch's political powers.</b> In the 16th century, English\n",
       "and Scottish monarchs played a central role in what became the\n",
       "religious English Reformation and Scottish Reformation, and the\n",
       "English king became King of Ireland. Beginning in 1603, the *score: 1.0979805, doc-id: Monarchy_of_the_United_Kingdom.pdf*\n",
       " 3. For example, the sovereign is exempt from anti-discrimination legislation and other workers'\n",
       "rights, health and safety, or pensions laws, as well as numerous taxes, and environmental inspectors cannot\n",
       "enter the sovereign's property without permission. History <b>English monarchy</b> Following Viking raids and settlement in the ninth century, the\n",
       "Anglo-Saxon kingdom of Wessex emerged as the dominant English kingdom. Alfred the Great secured Wessex, achieved dominance *score: 1.0454482, doc-id: Monarchy_of_the_United_Kingdom.pdf*\n",
       " 4. Edinburgh. The monarch stays at Holyrood for at least one week\n",
       "each year, and when visiting Scotland on state occasions. Historically, the Palace of Westminster and the Tower of London <b>were the main residences of the English monarch until Henry VIII\n",
       "acquired the Palace of Whitehall.</b> Whitehall was destroyed by fire in 1698, leading to a shift to St James's Palace. *score: 0.96436447, doc-id: Monarchy_of_the_United_Kingdom.pdf*\n",
       " 5. By 1541, King Henry VIII of England had broken with the Church of Rome and declared himself Supreme Head of the Church of England. <b>The Pope's grant of Ireland to the English monarch became invalid, so</b> Henry summoned a meeting of the Irish Parliament to change his title from Lord of Ireland to King of\n",
       "Ireland. In 1800, as a result of the Irish Rebellion of 1798, the Act of Union merged the kingdom of Great Britain *score: 0.9598277, doc-id: Monarchy_of_the_United_Kingdom.pdf*\n",
       " 6. reigns of both Robert II and his successor, Robert III, were marked by a general decline in royal power. When Robert III died in 1406, regents had to rule the country; the monarch, Robert III's son James I, had <b>been taken captive by the English.</b> Having paid a large ransom, James returned to Scotland in 1424; to\n",
       "restore his authority, he used ruthless measures, including the execution of several of his enemies. He was\n",
       "assassinated by a group of nobles. *score: 0.9566298, doc-id: Monarchy_of_the_United_Kingdom.pdf*\n",
       " 7. Other residences include Clarence House and Kensington Palace. Buckingham Palace, in London, <b>England, is the monarch's principal\n",
       "residence.</b> Holyrood Palace, in Edinburgh, Scotland, is the monarch's official\n",
       "Scottish residence. *score: 0.95349896, doc-id: Monarchy_of_the_United_Kingdom.pdf*\n",
       " 8. \"Citizenship ceremonies: guidance notes (English and Welsh)\" (https://www.gov.uk/governm ent/publications/british-citizenship-successful-applicants/citizenship-ceremonies-guidance-n <b>otes-english-and-welsh).</b> GOV.UK. 11 May 2023. Retrieved 23 December 2023. \"Crown Appointments Act 1661\" (https://www.legislation.gov.uk/aosp/1661/6). *score: 0.9514518, doc-id: Monarchy_of_the_United_Kingdom.pdf*\n",
       " 9. ISBN 1- Bagehot, Walter (2001). <b>Smith, Paul (ed.). The English Constitution.</b> Cambridge University Press.\n",
       "Brazier, Rodney (1997). *score: 0.94219977, doc-id: Monarchy_of_the_United_Kingdom.pdf*\n",
       " 10. Queen and the Church of England (https://web.archive.org/web/20101202214246/http://ww w.royal.gov.uk/MonarchUK/QueenandChurch/QueenandtheChurchofEngland.aspx), Official <b>website of the British Monarchy, archived from the original (http://www.royal.gov.uk/Monarch</b> UK/QueenandChurch/QueenandtheChurchofEngland.aspx) on 2 December 2010, retrieved 18 June 2010; Roles and Responsibilities: Overview (https://web.archive.org/web/20080803 *score: 0.93947846, doc-id: Monarchy_of_the_United_Kingdom.pdf*\n"
      ],
      "text/plain": [
       "<IPython.core.display.Markdown object>"
      ]
     },
     "metadata": {},
     "output_type": "display_data"
    }
   ],
   "source": [
    "resp = qs.query(query, corpus_id,semantics=\"RESPONSE\")\n",
    "render_response(query,resp)"
   ]
  }
 ],
 "metadata": {
  "kernelspec": {
   "display_name": "Python 3 (ipykernel)",
   "language": "python",
   "name": "python3"
  },
  "language_info": {
   "codemirror_mode": {
    "name": "ipython",
    "version": 3
   },
   "file_extension": ".py",
   "mimetype": "text/x-python",
   "name": "python",
   "nbconvert_exporter": "python",
   "pygments_lexer": "ipython3",
   "version": "3.12.1"
  }
 },
 "nbformat": 4,
 "nbformat_minor": 5
}
